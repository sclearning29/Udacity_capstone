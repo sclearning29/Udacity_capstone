{
  "nbformat": 4,
  "nbformat_minor": 0,
  "metadata": {
    "colab": {
      "name": "VoiceCall",
      "version": "0.3.2",
      "provenance": [],
      "collapsed_sections": []
    },
    "kernelspec": {
      "name": "python3",
      "display_name": "Python 3"
    }
  },
  "cells": [
    {
      "cell_type": "markdown",
      "metadata": {
        "id": "tkgFWbbvBal-",
        "colab_type": "text"
      },
      "source": [
        "Install the required modules.\n",
        "We need reverse geocoder module to reverse geocoding of latitude and longitude"
      ]
    },
    {
      "cell_type": "code",
      "metadata": {
        "id": "x-nvz5guTfYd",
        "colab_type": "code",
        "outputId": "026ad46e-7a95-4ad9-a737-4022c8c09c24",
        "colab": {
          "base_uri": "https://localhost:8080/",
          "height": 221
        }
      },
      "source": [
        "!pip install reverse_geocoder"
      ],
      "execution_count": 1,
      "outputs": [
        {
          "output_type": "stream",
          "text": [
            "Collecting reverse_geocoder\n",
            "\u001b[?25l  Downloading https://files.pythonhosted.org/packages/0b/0f/b7d5d4b36553731f11983e19e1813a1059ad0732c5162c01b3220c927d31/reverse_geocoder-1.5.1.tar.gz (2.2MB)\n",
            "\u001b[K     |████████████████████████████████| 2.3MB 2.8MB/s \n",
            "\u001b[?25hRequirement already satisfied: numpy>=1.11.0 in /usr/local/lib/python3.6/dist-packages (from reverse_geocoder) (1.16.4)\n",
            "Requirement already satisfied: scipy>=0.17.1 in /usr/local/lib/python3.6/dist-packages (from reverse_geocoder) (1.3.1)\n",
            "Building wheels for collected packages: reverse-geocoder\n",
            "  Building wheel for reverse-geocoder (setup.py) ... \u001b[?25l\u001b[?25hdone\n",
            "  Created wheel for reverse-geocoder: filename=reverse_geocoder-1.5.1-cp36-none-any.whl size=2268091 sha256=11d2560d4e4baeadd22b012e029ea002c410a20dcce0adff7a04faf92725306e\n",
            "  Stored in directory: /root/.cache/pip/wheels/47/05/50/b1350ff094ef91e082665b4a2f9ca551f8acea4aa55d796b26\n",
            "Successfully built reverse-geocoder\n",
            "Installing collected packages: reverse-geocoder\n",
            "Successfully installed reverse-geocoder-1.5.1\n"
          ],
          "name": "stdout"
        }
      ]
    },
    {
      "cell_type": "markdown",
      "metadata": {
        "id": "Q1UB42MNtucP",
        "colab_type": "text"
      },
      "source": [
        "import the required libraries"
      ]
    },
    {
      "cell_type": "code",
      "metadata": {
        "id": "ncDxgRNuUL_h",
        "colab_type": "code",
        "colab": {}
      },
      "source": [
        "import numpy as np\n",
        "import pandas as pd\n",
        "from time import time\n",
        "import io \n",
        "import csv\n",
        "import pprint as pp\n",
        "import reverse_geocoder as rg \n",
        "import seaborn as sns \n",
        "import matplotlib.pyplot as plt\n",
        "from sklearn.metrics import fbeta_score\n",
        "from sklearn.metrics import accuracy_score"
      ],
      "execution_count": 0,
      "outputs": []
    },
    {
      "cell_type": "markdown",
      "metadata": {
        "id": "eT6OvFHntyHr",
        "colab_type": "text"
      },
      "source": [
        "Load the dataset.  \n",
        "There are multiple dataset files so load and concat the dataset files"
      ]
    },
    {
      "cell_type": "code",
      "metadata": {
        "id": "W84rJ0f25tGc",
        "colab_type": "code",
        "colab": {
          "base_uri": "https://localhost:8080/",
          "height": 297
        },
        "outputId": "a5783203-7c3b-4a1f-d9b1-5cbdafad57d5"
      },
      "source": [
        "# importing the dataset from csv files\n",
        "data = pd.concat([pd.read_csv('CallVoiceQuality_Data_2018_April.csv' ), pd.read_csv('CallVoiceQuality_Data_2018_May.csv' )])\n",
        "\n",
        "data.describe()"
      ],
      "execution_count": 3,
      "outputs": [
        {
          "output_type": "execute_result",
          "data": {
            "text/html": [
              "<div>\n",
              "<style scoped>\n",
              "    .dataframe tbody tr th:only-of-type {\n",
              "        vertical-align: middle;\n",
              "    }\n",
              "\n",
              "    .dataframe tbody tr th {\n",
              "        vertical-align: top;\n",
              "    }\n",
              "\n",
              "    .dataframe thead th {\n",
              "        text-align: right;\n",
              "    }\n",
              "</style>\n",
              "<table border=\"1\" class=\"dataframe\">\n",
              "  <thead>\n",
              "    <tr style=\"text-align: right;\">\n",
              "      <th></th>\n",
              "      <th>Rating</th>\n",
              "      <th>Latitude</th>\n",
              "      <th>Longitude</th>\n",
              "    </tr>\n",
              "  </thead>\n",
              "  <tbody>\n",
              "    <tr>\n",
              "      <th>count</th>\n",
              "      <td>95317.000000</td>\n",
              "      <td>95317.000000</td>\n",
              "      <td>95317.000000</td>\n",
              "    </tr>\n",
              "    <tr>\n",
              "      <th>mean</th>\n",
              "      <td>3.465499</td>\n",
              "      <td>15.221703</td>\n",
              "      <td>57.940569</td>\n",
              "    </tr>\n",
              "    <tr>\n",
              "      <th>std</th>\n",
              "      <td>1.451786</td>\n",
              "      <td>10.761106</td>\n",
              "      <td>35.054858</td>\n",
              "    </tr>\n",
              "    <tr>\n",
              "      <th>min</th>\n",
              "      <td>1.000000</td>\n",
              "      <td>-1.000000</td>\n",
              "      <td>-73.982452</td>\n",
              "    </tr>\n",
              "    <tr>\n",
              "      <th>25%</th>\n",
              "      <td>2.000000</td>\n",
              "      <td>-1.000000</td>\n",
              "      <td>-1.000000</td>\n",
              "    </tr>\n",
              "    <tr>\n",
              "      <th>50%</th>\n",
              "      <td>4.000000</td>\n",
              "      <td>18.517141</td>\n",
              "      <td>76.660720</td>\n",
              "    </tr>\n",
              "    <tr>\n",
              "      <th>75%</th>\n",
              "      <td>5.000000</td>\n",
              "      <td>23.161592</td>\n",
              "      <td>78.476857</td>\n",
              "    </tr>\n",
              "    <tr>\n",
              "      <th>max</th>\n",
              "      <td>5.000000</td>\n",
              "      <td>40.756409</td>\n",
              "      <td>103.984169</td>\n",
              "    </tr>\n",
              "  </tbody>\n",
              "</table>\n",
              "</div>"
            ],
            "text/plain": [
              "             Rating      Latitude     Longitude\n",
              "count  95317.000000  95317.000000  95317.000000\n",
              "mean       3.465499     15.221703     57.940569\n",
              "std        1.451786     10.761106     35.054858\n",
              "min        1.000000     -1.000000    -73.982452\n",
              "25%        2.000000     -1.000000     -1.000000\n",
              "50%        4.000000     18.517141     76.660720\n",
              "75%        5.000000     23.161592     78.476857\n",
              "max        5.000000     40.756409    103.984169"
            ]
          },
          "metadata": {
            "tags": []
          },
          "execution_count": 3
        }
      ]
    },
    {
      "cell_type": "markdown",
      "metadata": {
        "id": "wdT9FYjKuLQS",
        "colab_type": "text"
      },
      "source": [
        "read the csv files and do the reverse geocoding of the latitude and longitde\n",
        "Replace the result reverse geocode result in the existing column 'State Name'"
      ]
    },
    {
      "cell_type": "code",
      "metadata": {
        "id": "3Sq2P4PIYTFM",
        "colab_type": "code",
        "outputId": "da2e132f-4fa4-40a3-d178-e6042052e913",
        "colab": {
          "base_uri": "https://localhost:8080/",
          "height": 582
        }
      },
      "source": [
        "input_filename1 = 'CallVoiceQuality_Data_2018_May.csv'\n",
        "input_filename2 = 'CallVoiceQuality_Data_2018_April.csv'\n",
        "\n",
        "def reverseGeocode(input_filename):\n",
        "    cities = [(row[5],row[6]) for row in csv.reader(open(input_filename,'rt'),delimiter=',')]\n",
        "   \n",
        "    #pp.pprint(cities[0:5])\n",
        "    results = rg.search(cities[1:])\n",
        "    city_loc = list()\n",
        "    for k in results:\n",
        "       city_loc.append(k['admin2'])\n",
        "    #print(len(city_loc))\n",
        "    return city_loc\n",
        "\n",
        "april_list= reverseGeocode(input_filename2)\n",
        "may_list= reverseGeocode(input_filename1)\n",
        "\n",
        "final_list= april_list + may_list\n",
        "\n",
        "print(len(data))\n",
        "print(len(final_list))\n",
        "\n",
        "data['State Name']= final_list\n",
        "\n",
        "display(data.head(15))\n",
        "display(data.shape)\n"
      ],
      "execution_count": 4,
      "outputs": [
        {
          "output_type": "stream",
          "text": [
            "Loading formatted geocoded file...\n",
            "95317\n",
            "95317\n"
          ],
          "name": "stdout"
        },
        {
          "output_type": "display_data",
          "data": {
            "text/html": [
              "<div>\n",
              "<style scoped>\n",
              "    .dataframe tbody tr th:only-of-type {\n",
              "        vertical-align: middle;\n",
              "    }\n",
              "\n",
              "    .dataframe tbody tr th {\n",
              "        vertical-align: top;\n",
              "    }\n",
              "\n",
              "    .dataframe thead th {\n",
              "        text-align: right;\n",
              "    }\n",
              "</style>\n",
              "<table border=\"1\" class=\"dataframe\">\n",
              "  <thead>\n",
              "    <tr style=\"text-align: right;\">\n",
              "      <th></th>\n",
              "      <th>Operator</th>\n",
              "      <th>Indoor_Outdoor_Travelling</th>\n",
              "      <th>Network Type</th>\n",
              "      <th>Rating</th>\n",
              "      <th>Call Drop Category</th>\n",
              "      <th>Latitude</th>\n",
              "      <th>Longitude</th>\n",
              "      <th>State Name</th>\n",
              "    </tr>\n",
              "  </thead>\n",
              "  <tbody>\n",
              "    <tr>\n",
              "      <th>0</th>\n",
              "      <td>Airtel</td>\n",
              "      <td>Indoor</td>\n",
              "      <td>3G</td>\n",
              "      <td>5</td>\n",
              "      <td>Satisfactory</td>\n",
              "      <td>28.422966</td>\n",
              "      <td>76.912324</td>\n",
              "      <td>Gurgaon</td>\n",
              "    </tr>\n",
              "    <tr>\n",
              "      <th>1</th>\n",
              "      <td>RJio</td>\n",
              "      <td>Indoor</td>\n",
              "      <td>4G</td>\n",
              "      <td>4</td>\n",
              "      <td>Satisfactory</td>\n",
              "      <td>11.158358</td>\n",
              "      <td>77.301897</td>\n",
              "      <td>Tiruppur</td>\n",
              "    </tr>\n",
              "    <tr>\n",
              "      <th>2</th>\n",
              "      <td>Airtel</td>\n",
              "      <td>Outdoor</td>\n",
              "      <td>3G</td>\n",
              "      <td>5</td>\n",
              "      <td>Satisfactory</td>\n",
              "      <td>28.422931</td>\n",
              "      <td>76.912253</td>\n",
              "      <td>Gurgaon</td>\n",
              "    </tr>\n",
              "    <tr>\n",
              "      <th>3</th>\n",
              "      <td>Airtel</td>\n",
              "      <td>Travelling</td>\n",
              "      <td>3G</td>\n",
              "      <td>5</td>\n",
              "      <td>Satisfactory</td>\n",
              "      <td>28.422947</td>\n",
              "      <td>76.912260</td>\n",
              "      <td>Gurgaon</td>\n",
              "    </tr>\n",
              "    <tr>\n",
              "      <th>4</th>\n",
              "      <td>RJio</td>\n",
              "      <td>Indoor</td>\n",
              "      <td>4G</td>\n",
              "      <td>5</td>\n",
              "      <td>Satisfactory</td>\n",
              "      <td>25.625990</td>\n",
              "      <td>85.094294</td>\n",
              "      <td>Patna</td>\n",
              "    </tr>\n",
              "    <tr>\n",
              "      <th>5</th>\n",
              "      <td>RJio</td>\n",
              "      <td>Travelling</td>\n",
              "      <td>4G</td>\n",
              "      <td>4</td>\n",
              "      <td>Satisfactory</td>\n",
              "      <td>14.913321</td>\n",
              "      <td>79.993797</td>\n",
              "      <td>Nellore</td>\n",
              "    </tr>\n",
              "    <tr>\n",
              "      <th>6</th>\n",
              "      <td>Airtel</td>\n",
              "      <td>Travelling</td>\n",
              "      <td>4G</td>\n",
              "      <td>1</td>\n",
              "      <td>Satisfactory</td>\n",
              "      <td>19.937326</td>\n",
              "      <td>73.536190</td>\n",
              "      <td>Nashik Division</td>\n",
              "    </tr>\n",
              "    <tr>\n",
              "      <th>7</th>\n",
              "      <td>RJio</td>\n",
              "      <td>Outdoor</td>\n",
              "      <td>4G</td>\n",
              "      <td>4</td>\n",
              "      <td>Satisfactory</td>\n",
              "      <td>26.892033</td>\n",
              "      <td>75.725724</td>\n",
              "      <td>Jaipur</td>\n",
              "    </tr>\n",
              "    <tr>\n",
              "      <th>8</th>\n",
              "      <td>RJio</td>\n",
              "      <td>Indoor</td>\n",
              "      <td>4G</td>\n",
              "      <td>5</td>\n",
              "      <td>Satisfactory</td>\n",
              "      <td>20.287829</td>\n",
              "      <td>85.864832</td>\n",
              "      <td>Khordha</td>\n",
              "    </tr>\n",
              "    <tr>\n",
              "      <th>9</th>\n",
              "      <td>RJio</td>\n",
              "      <td>Indoor</td>\n",
              "      <td>4G</td>\n",
              "      <td>2</td>\n",
              "      <td>Satisfactory</td>\n",
              "      <td>9.426251</td>\n",
              "      <td>77.802405</td>\n",
              "      <td>Virudhunagar</td>\n",
              "    </tr>\n",
              "    <tr>\n",
              "      <th>10</th>\n",
              "      <td>Idea</td>\n",
              "      <td>Outdoor</td>\n",
              "      <td>Unknown</td>\n",
              "      <td>4</td>\n",
              "      <td>Satisfactory</td>\n",
              "      <td>-1.000000</td>\n",
              "      <td>-1.000000</td>\n",
              "      <td></td>\n",
              "    </tr>\n",
              "    <tr>\n",
              "      <th>11</th>\n",
              "      <td>RJio</td>\n",
              "      <td>Indoor</td>\n",
              "      <td>4G</td>\n",
              "      <td>5</td>\n",
              "      <td>Satisfactory</td>\n",
              "      <td>25.625963</td>\n",
              "      <td>85.094111</td>\n",
              "      <td>Patna</td>\n",
              "    </tr>\n",
              "    <tr>\n",
              "      <th>12</th>\n",
              "      <td>Airtel</td>\n",
              "      <td>Outdoor</td>\n",
              "      <td>4G</td>\n",
              "      <td>5</td>\n",
              "      <td>Satisfactory</td>\n",
              "      <td>26.781342</td>\n",
              "      <td>82.150961</td>\n",
              "      <td>Faizabad</td>\n",
              "    </tr>\n",
              "    <tr>\n",
              "      <th>13</th>\n",
              "      <td>BSNL</td>\n",
              "      <td>Indoor</td>\n",
              "      <td>3G</td>\n",
              "      <td>1</td>\n",
              "      <td>Poor Network</td>\n",
              "      <td>-1.000000</td>\n",
              "      <td>-1.000000</td>\n",
              "      <td></td>\n",
              "    </tr>\n",
              "    <tr>\n",
              "      <th>14</th>\n",
              "      <td>RJio</td>\n",
              "      <td>Travelling</td>\n",
              "      <td>4G</td>\n",
              "      <td>5</td>\n",
              "      <td>Satisfactory</td>\n",
              "      <td>26.934576</td>\n",
              "      <td>81.184495</td>\n",
              "      <td>Bara Banki</td>\n",
              "    </tr>\n",
              "  </tbody>\n",
              "</table>\n",
              "</div>"
            ],
            "text/plain": [
              "   Operator Indoor_Outdoor_Travelling  ...  Longitude       State Name\n",
              "0    Airtel                    Indoor  ...  76.912324          Gurgaon\n",
              "1      RJio                    Indoor  ...  77.301897         Tiruppur\n",
              "2    Airtel                   Outdoor  ...  76.912253          Gurgaon\n",
              "3    Airtel                Travelling  ...  76.912260          Gurgaon\n",
              "4      RJio                    Indoor  ...  85.094294            Patna\n",
              "5      RJio                Travelling  ...  79.993797          Nellore\n",
              "6    Airtel                Travelling  ...  73.536190  Nashik Division\n",
              "7      RJio                   Outdoor  ...  75.725724           Jaipur\n",
              "8      RJio                    Indoor  ...  85.864832          Khordha\n",
              "9      RJio                    Indoor  ...  77.802405     Virudhunagar\n",
              "10     Idea                   Outdoor  ...  -1.000000                 \n",
              "11     RJio                    Indoor  ...  85.094111            Patna\n",
              "12   Airtel                   Outdoor  ...  82.150961         Faizabad\n",
              "13     BSNL                    Indoor  ...  -1.000000                 \n",
              "14     RJio                Travelling  ...  81.184495       Bara Banki\n",
              "\n",
              "[15 rows x 8 columns]"
            ]
          },
          "metadata": {
            "tags": []
          }
        },
        {
          "output_type": "display_data",
          "data": {
            "text/plain": [
              "(95317, 8)"
            ]
          },
          "metadata": {
            "tags": []
          }
        }
      ]
    },
    {
      "cell_type": "markdown",
      "metadata": {
        "id": "PUYElZR3u-pp",
        "colab_type": "text"
      },
      "source": [
        "Droping the records with latitude and longitude of 0 or -1 Also droping the 'Rating column'"
      ]
    },
    {
      "cell_type": "code",
      "metadata": {
        "id": "feIgyyiK85ab",
        "colab_type": "code",
        "outputId": "74bd1009-36d4-4ded-94a8-8a7895981e7a",
        "colab": {
          "base_uri": "https://localhost:8080/",
          "height": 359
        }
      },
      "source": [
        "# drop the rows with laititude 0 or -1\n",
        "data.dropna(inplace=True)\n",
        "\n",
        "if 'Rating' in data.columns:\n",
        "     data = data.drop('Rating' ,axis=1)\n",
        "\n",
        "display(data.head(10))\n"
      ],
      "execution_count": 5,
      "outputs": [
        {
          "output_type": "display_data",
          "data": {
            "text/html": [
              "<div>\n",
              "<style scoped>\n",
              "    .dataframe tbody tr th:only-of-type {\n",
              "        vertical-align: middle;\n",
              "    }\n",
              "\n",
              "    .dataframe tbody tr th {\n",
              "        vertical-align: top;\n",
              "    }\n",
              "\n",
              "    .dataframe thead th {\n",
              "        text-align: right;\n",
              "    }\n",
              "</style>\n",
              "<table border=\"1\" class=\"dataframe\">\n",
              "  <thead>\n",
              "    <tr style=\"text-align: right;\">\n",
              "      <th></th>\n",
              "      <th>Operator</th>\n",
              "      <th>Indoor_Outdoor_Travelling</th>\n",
              "      <th>Network Type</th>\n",
              "      <th>Call Drop Category</th>\n",
              "      <th>Latitude</th>\n",
              "      <th>Longitude</th>\n",
              "      <th>State Name</th>\n",
              "    </tr>\n",
              "  </thead>\n",
              "  <tbody>\n",
              "    <tr>\n",
              "      <th>0</th>\n",
              "      <td>Airtel</td>\n",
              "      <td>Indoor</td>\n",
              "      <td>3G</td>\n",
              "      <td>Satisfactory</td>\n",
              "      <td>28.422966</td>\n",
              "      <td>76.912324</td>\n",
              "      <td>Gurgaon</td>\n",
              "    </tr>\n",
              "    <tr>\n",
              "      <th>1</th>\n",
              "      <td>RJio</td>\n",
              "      <td>Indoor</td>\n",
              "      <td>4G</td>\n",
              "      <td>Satisfactory</td>\n",
              "      <td>11.158358</td>\n",
              "      <td>77.301897</td>\n",
              "      <td>Tiruppur</td>\n",
              "    </tr>\n",
              "    <tr>\n",
              "      <th>2</th>\n",
              "      <td>Airtel</td>\n",
              "      <td>Outdoor</td>\n",
              "      <td>3G</td>\n",
              "      <td>Satisfactory</td>\n",
              "      <td>28.422931</td>\n",
              "      <td>76.912253</td>\n",
              "      <td>Gurgaon</td>\n",
              "    </tr>\n",
              "    <tr>\n",
              "      <th>3</th>\n",
              "      <td>Airtel</td>\n",
              "      <td>Travelling</td>\n",
              "      <td>3G</td>\n",
              "      <td>Satisfactory</td>\n",
              "      <td>28.422947</td>\n",
              "      <td>76.912260</td>\n",
              "      <td>Gurgaon</td>\n",
              "    </tr>\n",
              "    <tr>\n",
              "      <th>4</th>\n",
              "      <td>RJio</td>\n",
              "      <td>Indoor</td>\n",
              "      <td>4G</td>\n",
              "      <td>Satisfactory</td>\n",
              "      <td>25.625990</td>\n",
              "      <td>85.094294</td>\n",
              "      <td>Patna</td>\n",
              "    </tr>\n",
              "    <tr>\n",
              "      <th>5</th>\n",
              "      <td>RJio</td>\n",
              "      <td>Travelling</td>\n",
              "      <td>4G</td>\n",
              "      <td>Satisfactory</td>\n",
              "      <td>14.913321</td>\n",
              "      <td>79.993797</td>\n",
              "      <td>Nellore</td>\n",
              "    </tr>\n",
              "    <tr>\n",
              "      <th>6</th>\n",
              "      <td>Airtel</td>\n",
              "      <td>Travelling</td>\n",
              "      <td>4G</td>\n",
              "      <td>Satisfactory</td>\n",
              "      <td>19.937326</td>\n",
              "      <td>73.536190</td>\n",
              "      <td>Nashik Division</td>\n",
              "    </tr>\n",
              "    <tr>\n",
              "      <th>7</th>\n",
              "      <td>RJio</td>\n",
              "      <td>Outdoor</td>\n",
              "      <td>4G</td>\n",
              "      <td>Satisfactory</td>\n",
              "      <td>26.892033</td>\n",
              "      <td>75.725724</td>\n",
              "      <td>Jaipur</td>\n",
              "    </tr>\n",
              "    <tr>\n",
              "      <th>8</th>\n",
              "      <td>RJio</td>\n",
              "      <td>Indoor</td>\n",
              "      <td>4G</td>\n",
              "      <td>Satisfactory</td>\n",
              "      <td>20.287829</td>\n",
              "      <td>85.864832</td>\n",
              "      <td>Khordha</td>\n",
              "    </tr>\n",
              "    <tr>\n",
              "      <th>9</th>\n",
              "      <td>RJio</td>\n",
              "      <td>Indoor</td>\n",
              "      <td>4G</td>\n",
              "      <td>Satisfactory</td>\n",
              "      <td>9.426251</td>\n",
              "      <td>77.802405</td>\n",
              "      <td>Virudhunagar</td>\n",
              "    </tr>\n",
              "  </tbody>\n",
              "</table>\n",
              "</div>"
            ],
            "text/plain": [
              "  Operator Indoor_Outdoor_Travelling  ...  Longitude       State Name\n",
              "0   Airtel                    Indoor  ...  76.912324          Gurgaon\n",
              "1     RJio                    Indoor  ...  77.301897         Tiruppur\n",
              "2   Airtel                   Outdoor  ...  76.912253          Gurgaon\n",
              "3   Airtel                Travelling  ...  76.912260          Gurgaon\n",
              "4     RJio                    Indoor  ...  85.094294            Patna\n",
              "5     RJio                Travelling  ...  79.993797          Nellore\n",
              "6   Airtel                Travelling  ...  73.536190  Nashik Division\n",
              "7     RJio                   Outdoor  ...  75.725724           Jaipur\n",
              "8     RJio                    Indoor  ...  85.864832          Khordha\n",
              "9     RJio                    Indoor  ...  77.802405     Virudhunagar\n",
              "\n",
              "[10 rows x 7 columns]"
            ]
          },
          "metadata": {
            "tags": []
          }
        }
      ]
    },
    {
      "cell_type": "markdown",
      "metadata": {
        "id": "IHiOFw3FvVvJ",
        "colab_type": "text"
      },
      "source": [
        "printing the number of records present in the dataset  and records with good voice quality and records with poor voice quality"
      ]
    },
    {
      "cell_type": "code",
      "metadata": {
        "id": "xrhshkF1Xh_o",
        "colab_type": "code",
        "outputId": "af54d900-e9ed-45b9-aeeb-127e000306a7",
        "colab": {
          "base_uri": "https://localhost:8080/",
          "height": 68
        }
      },
      "source": [
        "records = data.shape[0]\n",
        "\n",
        "# number of records where voice quality is satisfactory\n",
        "good_quality_records = data.loc[data['Call Drop Category'] == 'Satisfactory'].shape[0]\n",
        "\n",
        "#number of records where voice quality is poor considering poor voice quality and call dropped category\n",
        "poor_quality_records = data.loc[(data['Call Drop Category'] == 'Poor Voice Quality') | (data['Call Drop Category' ] == 'Call Dropped')| (data['Call Drop Category' ] == 'Poor Network')].shape[0]\n",
        "#call_dropped_records = data.loc[ data['Call Drop Category' ] == 'Call Dropped' ].shape[0]\n",
        "\n",
        "# TODO: Percentage of records with good voice quality\n",
        "good_voice_quality_percent = good_quality_records/records *100\n",
        "\n",
        "# Print the results\n",
        "print(\"Total number of records: {}\".format(records))\n",
        "print(\"Records with good voice quality : {}\".format(good_quality_records))\n",
        "print(\"Records with poor voice quality: {}\".format(poor_quality_records))\n",
        "#print(\"Percentage of records with good voice quality: {}%\".format(good_voice_quality_percent))"
      ],
      "execution_count": 6,
      "outputs": [
        {
          "output_type": "stream",
          "text": [
            "Total number of records: 95317\n",
            "Records with good voice quality : 68977\n",
            "Records with poor voice quality: 26340\n"
          ],
          "name": "stdout"
        }
      ]
    },
    {
      "cell_type": "code",
      "metadata": {
        "id": "4DxdhxSKlS5Q",
        "colab_type": "code",
        "colab": {
          "base_uri": "https://localhost:8080/",
          "height": 500
        },
        "outputId": "b680510b-a7a3-4d7e-8a66-4a89222f7973"
      },
      "source": [
        "Operator = sns.countplot(data['Operator'], label=\"Count\")\n",
        "\n",
        "for item in Operator.get_xticklabels():\n",
        "    item.set_rotation(45)\n",
        "\n",
        "\n",
        "print(data['Operator'].value_counts())\n"
      ],
      "execution_count": 8,
      "outputs": [
        {
          "output_type": "stream",
          "text": [
            "RJio        39220\n",
            "Airtel      22540\n",
            "Vodafone    12510\n",
            "BSNL        11612\n",
            "Idea         8559\n",
            "Tata          421\n",
            "RComm         219\n",
            "MTNL          144\n",
            "Telenor        47\n",
            "Other          45\n",
            "Name: Operator, dtype: int64\n"
          ],
          "name": "stdout"
        },
        {
          "output_type": "display_data",
          "data": {
            "image/png": "[encoded data removed]",
            "text/plain": [
              "<Figure size 432x288 with 1 Axes>"
            ]
          },
          "metadata": {
            "tags": []
          }
        }
      ]
    },
    {
      "cell_type": "code",
      "metadata": {
        "id": "tJCaJNcSlDU-",
        "colab_type": "code",
        "colab": {
          "base_uri": "https://localhost:8080/",
          "height": 352
        },
        "outputId": "912b9363-7757-4b14-af54-c0ac09d2227f"
      },
      "source": [
        "IndoorOutdoor = sns.countplot(data['Indoor_Outdoor_Travelling'], label=\"Count\")\n",
        "\n",
        "print(data['Indoor_Outdoor_Travelling'].value_counts())"
      ],
      "execution_count": 9,
      "outputs": [
        {
          "output_type": "stream",
          "text": [
            "Indoor        63688\n",
            "Outdoor       22423\n",
            "Travelling     9206\n",
            "Name: Indoor_Outdoor_Travelling, dtype: int64\n"
          ],
          "name": "stdout"
        },
        {
          "output_type": "display_data",
          "data": {
            "image/png": "[encoded data removed]",
            "text/plain": [
              "<Figure size 432x288 with 1 Axes>"
            ]
          },
          "metadata": {
            "tags": []
          }
        }
      ]
    },
    {
      "cell_type": "code",
      "metadata": {
        "id": "okJX-AbklLmD",
        "colab_type": "code",
        "colab": {
          "base_uri": "https://localhost:8080/",
          "height": 368
        },
        "outputId": "1bda4894-3449-45ea-f484-5a1cabf9abe0"
      },
      "source": [
        "networkType = sns.countplot(data['Network Type'], label=\"Count\")\n",
        "\n",
        "print(data['Network Type'].value_counts())"
      ],
      "execution_count": 10,
      "outputs": [
        {
          "output_type": "stream",
          "text": [
            "4G         52400\n",
            "3G         19151\n",
            "Unknown    18243\n",
            "2G          5523\n",
            "Name: Network Type, dtype: int64\n"
          ],
          "name": "stdout"
        },
        {
          "output_type": "display_data",
          "data": {
            "image/png": "[encoded data removed]",
            "text/plain": [
              "<Figure size 432x288 with 1 Axes>"
            ]
          },
          "metadata": {
            "tags": []
          }
        }
      ]
    },
    {
      "cell_type": "markdown",
      "metadata": {
        "id": "IO985dhSwDGu",
        "colab_type": "text"
      },
      "source": [
        "Dropong the target label column and well as latitude and longitude columns\n",
        "Converting the target classes values inot numeric values.\n",
        "\n",
        "Printing the count of all each type of target value and the barplot praph as well\n"
      ]
    },
    {
      "cell_type": "code",
      "metadata": {
        "id": "VW-syMQeGaTy",
        "colab_type": "code",
        "outputId": "21057dc6-5bda-4a92-cd5f-f808866de67b",
        "colab": {
          "base_uri": "https://localhost:8080/",
          "height": 351
        }
      },
      "source": [
        "if 'Call Drop Category' in data.columns:\n",
        "    voice_quality_raw = data['Call Drop Category']\n",
        "    data = data.drop('Latitude' ,axis=1)\n",
        "    data = data.drop('Longitude' ,axis=1)\n",
        "    \n",
        "    data = data.drop('Call Drop Category' ,axis=1)\n",
        "    \n",
        "voice_quality = voice_quality_raw.map(lambda x: 0 if x != \"Satisfactory\" else 1)\n",
        "voice_quality.head(15)\n",
        "\n",
        "ax = sns.countplot(voice_quality_raw, label=\"Count\")      \n",
        "Satisfactory, PoorNetWork, CallDropped, PoorVoiceQuality = voice_quality_raw.value_counts()\n",
        "print('Number of Satisfactory: ',Satisfactory)\n",
        "print('Number of Poor NetWork : ',PoorNetWork)\n",
        "print('Number of Call Dropped: ',CallDropped)\n",
        "print('Number of Poor Voice Quality: ',PoorVoiceQuality)\n"
      ],
      "execution_count": 11,
      "outputs": [
        {
          "output_type": "stream",
          "text": [
            "Number of Satisfactory:  68977\n",
            "Number of Poor NetWork :  11257\n",
            "Number of Call Dropped:  7660\n",
            "Number of Poor Voice Quality:  7423\n"
          ],
          "name": "stdout"
        },
        {
          "output_type": "display_data",
          "data": {
            "image/png": "[encoded data removed]",
            "text/plain": [
              "<Figure size 432x288 with 1 Axes>"
            ]
          },
          "metadata": {
            "tags": []
          }
        }
      ]
    },
    {
      "cell_type": "markdown",
      "metadata": {
        "id": "zj3_uNRQwsIR",
        "colab_type": "text"
      },
      "source": [
        "does the one hot encoding for the columns which has categorical values"
      ]
    },
    {
      "cell_type": "code",
      "metadata": {
        "id": "Zcvr4M_GY9bi",
        "colab_type": "code",
        "outputId": "94f732f3-ece6-459a-c636-d1999784b29a",
        "colab": {
          "base_uri": "https://localhost:8080/",
          "height": 71
        }
      },
      "source": [
        "final_data = pd.get_dummies(data)\n",
        "final_data.head()\n",
        "\n",
        "\n",
        "# Print the number of features after one-hot encoding\n",
        "encoded = list(final_data.columns)\n",
        "print(\"{} total features after one-hot encoding.\".format(len(encoded)))\n",
        "\n",
        "print(encoded)"
      ],
      "execution_count": 12,
      "outputs": [
        {
          "output_type": "stream",
          "text": [
            "453 total features after one-hot encoding.\n",
            "['Operator_Airtel', 'Operator_BSNL', 'Operator_Idea', 'Operator_MTNL', 'Operator_Other', 'Operator_RComm', 'Operator_RJio', 'Operator_Tata', 'Operator_Telenor', 'Operator_Vodafone', 'Indoor_Outdoor_Travelling_Indoor', 'Indoor_Outdoor_Travelling_Outdoor', 'Indoor_Outdoor_Travelling_Travelling', 'Network Type_2G', 'Network Type_3G', 'Network Type_4G', 'Network Type_Unknown', 'State Name_', 'State Name_Adilabad', 'State Name_Agra', 'State Name_Ahmadabad', 'State Name_Ahmadnagar', 'State Name_Ajitgarh', 'State Name_Ajmer', 'State Name_Akola', 'State Name_Alappuzha', 'State Name_Aligarh', 'State Name_Allahabad', 'State Name_Almora', 'State Name_Alwar', 'State Name_Ambala', 'State Name_Amravati Division', 'State Name_Amreli', 'State Name_Amritsar', 'State Name_Anand', 'State Name_Anantapur', 'State Name_Anantnag', 'State Name_Angul District', 'State Name_Araria', 'State Name_Aurangabad', 'State Name_Aurangabad Division', 'State Name_Baghpat', 'State Name_Bahraich', 'State Name_Baksa', 'State Name_Balangir', 'State Name_Baleshwar', 'State Name_Balrampur', 'State Name_Banas Kantha', 'State Name_Bangalore Rural', 'State Name_Bangalore Urban', 'State Name_Banka', 'State Name_Bankura', 'State Name_Bara Banki', 'State Name_Baragarh', 'State Name_Baramula', 'State Name_Barddhaman', 'State Name_Bareilly', 'State Name_Barmer', 'State Name_Barpeta', 'State Name_Basti', 'State Name_Bathinda', 'State Name_Begusarai', 'State Name_Belgaum', 'State Name_Bellary', 'State Name_Betul', 'State Name_Bhadrak', 'State Name_Bhagalpur', 'State Name_Bhandara', 'State Name_Bharatpur', 'State Name_Bharuch', 'State Name_Bhavnagar', 'State Name_Bhiwani', 'State Name_Bhojpur', 'State Name_Bhopal', 'State Name_Bid', 'State Name_Bijapur', 'State Name_Bijnor', 'State Name_Bikaner', 'State Name_Bilaspur', 'State Name_Birbhum', 'State Name_Bokaro', 'State Name_Bulandshahr', 'State Name_Buldana', 'State Name_Bundi', 'State Name_Burhanpur', 'State Name_Buxar', 'State Name_Cachar', 'State Name_Central Delhi', 'State Name_Chamba', 'State Name_Chamoli', 'State Name_Chandauli District', 'State Name_Chandigarh', 'State Name_Chandrapur', 'State Name_Chennai', 'State Name_Chhindwara', 'State Name_Chikkaballapur', 'State Name_Chikmagalur', 'State Name_Chitradurga', 'State Name_Chittoor', 'State Name_Coimbatore', 'State Name_Cuddalore', 'State Name_Cuddapah', 'State Name_Cuttack', 'State Name_Dadra & Nagar Haveli', 'State Name_Dakshin Bastar Dantewada', 'State Name_Dakshina Kannada', 'State Name_Damoh', 'State Name_Darbhanga', 'State Name_Darjiling', 'State Name_Datia', 'State Name_Dausa', 'State Name_Davanagere', 'State Name_Debagarh', 'State Name_Dehradun', 'State Name_Deogarh', 'State Name_Deoria', 'State Name_Dewas', 'State Name_Dhamtari', 'State Name_Dhanbad', 'State Name_Dhar', 'State Name_Dharmapuri', 'State Name_Dharwad', 'State Name_Dhenkanal', 'State Name_Dhuburi', 'State Name_Dhule', 'State Name_Dimapur', 'State Name_Dindigul', 'State Name_Dohad', 'State Name_Durg', 'State Name_East District', 'State Name_East Godavari', 'State Name_East Khasi Hills', 'State Name_East Siang', 'State Name_Ernakulam', 'State Name_Erode', 'State Name_Etawah', 'State Name_Faizabad', 'State Name_Faridabad District', 'State Name_Faridkot', 'State Name_Fatehgarh Sahib', 'State Name_Fatehpur', 'State Name_Ferozepur', 'State Name_Firozabad', 'State Name_Gandhinagar', 'State Name_Ganganagar', 'State Name_Ganjam', 'State Name_Garhwal', 'State Name_Gautam Buddha Nagar', 'State Name_Gaya', 'State Name_Ghaziabad', 'State Name_Ghazipur', 'State Name_Gonda', 'State Name_Gondiya', 'State Name_Gorakhpur', 'State Name_Gulbarga', 'State Name_Guntur', 'State Name_Gurdaspur', 'State Name_Gurgaon', 'State Name_Gwalior', 'State Name_Hailakandi', 'State Name_Hamirpur', 'State Name_Haora', 'State Name_Harda', 'State Name_Hardoi', 'State Name_Haridwar', 'State Name_Hassan', 'State Name_Hazaribag', 'State Name_Hingoli', 'State Name_Hisar', 'State Name_Hoshangabad', 'State Name_Hoshiarpur', 'State Name_Hugli', 'State Name_Hyderabad', 'State Name_Idukki', 'State Name_Imphal East', 'State Name_Indore', 'State Name_Jabalpur', 'State Name_Jagatsinghpur', 'State Name_Jaipur', 'State Name_Jajpur', 'State Name_Jalandhar', 'State Name_Jalaun', 'State Name_Jalgaon', 'State Name_Jalna', 'State Name_Jalore', 'State Name_Jalpaiguri', 'State Name_Jammu', 'State Name_Jamnagar', 'State Name_Jamtara', 'State Name_Jamui', 'State Name_Janjgir-Champa', 'State Name_Jaunpur', 'State Name_Jehanabad', 'State Name_Jhajjar', 'State Name_Jhansi', 'State Name_Jharsuguda', 'State Name_Jhunjhunun', 'State Name_Jind', 'State Name_Jodhpur', 'State Name_Jorhat', 'State Name_Junagadh', 'State Name_Jyotiba Phule Nagar', 'State Name_Kabeerdham', 'State Name_Kachchh', 'State Name_Kaimur District', 'State Name_Kamrup', 'State Name_Kamrup Metropolitan', 'State Name_Kancheepuram', 'State Name_Kangra', 'State Name_Kanniyakumari', 'State Name_Kannur', 'State Name_Kanpur', 'State Name_Kanpur Dehat', 'State Name_Kanshiram Nagar', 'State Name_Kapurthala', 'State Name_Karaikal', 'State Name_Karimganj', 'State Name_Karimnagar', 'State Name_Karnal', 'State Name_Karur', 'State Name_Kasaragod District', 'State Name_Katihar', 'State Name_Katni', 'State Name_Kaushambi District', 'State Name_Kendrapara', 'State Name_Khagaria', 'State Name_Khammam', 'State Name_Khargone', 'State Name_Kheda', 'State Name_Khordha', 'State Name_Khunti', 'State Name_Kishanganj', 'State Name_Kishtwar', 'State Name_Koch Bihar', 'State Name_Kodagu', 'State Name_Kodarma', 'State Name_Kohima', 'State Name_Kokrajhar', 'State Name_Kolar', 'State Name_Kolhapur', 'State Name_Kolkata', 'State Name_Kollam', 'State Name_Koraput', 'State Name_Korba', 'State Name_Kosi Zone', 'State Name_Kota', 'State Name_Kottayam', 'State Name_Kozhikode', 'State Name_Krishna', 'State Name_Krishnagiri', 'State Name_Kulu', 'State Name_Kurnool', 'State Name_Kurukshetra', 'State Name_Kushinagar', 'State Name_Lalitpur', 'State Name_Latehar', 'State Name_Latur', 'State Name_Lohit District', 'State Name_Lucknow District', 'State Name_Ludhiana', 'State Name_Madhubani', 'State Name_Madurai', 'State Name_Mahamaya Nagar', 'State Name_Maharajganj', 'State Name_Mahasamund', 'State Name_Mahbubnagar', 'State Name_Mahendragarh', 'State Name_Mahesana', 'State Name_Mainpuri', 'State Name_Malappuram', 'State Name_Maldah', 'State Name_Mandi', 'State Name_Mandsaur', 'State Name_Mandya', 'State Name_Mathura', 'State Name_Mayurbhanj', 'State Name_Medak', 'State Name_Meerut', 'State Name_Mewat', 'State Name_Mirzapur', 'State Name_Moga', 'State Name_Moradabad', 'State Name_Muktsar', 'State Name_Mumbai Suburban', 'State Name_Murshidabad', 'State Name_Muzaffarnagar', 'State Name_Muzaffarpur', 'State Name_Mysore', 'State Name_Nabarangpur', 'State Name_Nadia', 'State Name_Nagaon', 'State Name_Nagapattinam', 'State Name_Nagaur', 'State Name_Nagpur Division', 'State Name_Naini Tal', 'State Name_Nalanda', 'State Name_Nalgonda', 'State Name_Namakkal', 'State Name_Nanded', 'State Name_Narsimhapur', 'State Name_Nashik Division', 'State Name_Navsari', 'State Name_Nawada', 'State Name_Nayagarh District', 'State Name_Nellore', 'State Name_New Delhi', 'State Name_New York County', 'State Name_Nilgiri', 'State Name_Nizamabad District', 'State Name_North 24 Parganas', 'State Name_North Delhi', 'State Name_North Goa', 'State Name_North Tripura', 'State Name_North West Delhi', 'State Name_Nuapada', 'State Name_Osmanabad', 'State Name_Palakkad district', 'State Name_Pali', 'State Name_Palwal', 'State Name_Panchkula', 'State Name_Panipat', 'State Name_Papum Pare', 'State Name_Parbhani', 'State Name_Paschim Medinipur', 'State Name_Pashchim Champaran', 'State Name_Patan', 'State Name_Pathankot', 'State Name_Patiala', 'State Name_Patna', 'State Name_Pattanamtitta', 'State Name_Perambalur', 'State Name_Pithoragarh', 'State Name_Prakasam', 'State Name_Pratapgarh', 'State Name_Puducherry', 'State Name_Pulwama', 'State Name_Pune Division', 'State Name_Purba Champaran', 'State Name_Purba Medinipur', 'State Name_Purba Singhbhum', 'State Name_Puri', 'State Name_Purnia', 'State Name_Puruliya', 'State Name_Rae Bareli', 'State Name_Raigarh', 'State Name_Raipur', 'State Name_Raisen', 'State Name_Raj Nandgaon', 'State Name_Rajgarh', 'State Name_Rajkot', 'State Name_Rajsamand', 'State Name_Ramanagara', 'State Name_Ramanathapuram', 'State Name_Ramgarh', 'State Name_Rampur', 'State Name_Ranchi', 'State Name_Rangareddi', 'State Name_Ratnagiri', 'State Name_Rayagada', 'State Name_Rewa', 'State Name_Rewari District', 'State Name_Rohtak', 'State Name_Rupnagar', 'State Name_Sabar Kantha', 'State Name_Sagar', 'State Name_Saharanpur', 'State Name_Salem', 'State Name_Samastipur', 'State Name_Sambalpur', 'State Name_Sangli', 'State Name_Sangrur', 'State Name_Sant Kabir Nagar', 'State Name_Sant Ravi Das Nagar', 'State Name_Saran', 'State Name_Satara Division', 'State Name_Satna', 'State Name_Sawai Madhopur', 'State Name_Sehore', 'State Name_Shahdol', 'State Name_Shahjahanpur', 'State Name_Shajapur', 'State Name_Shimla', 'State Name_Shimoga', 'State Name_Shrawasti', 'State Name_Sibsagar', 'State Name_Siddharthangar', 'State Name_Sikar', 'State Name_Sindhudurg', 'State Name_Singrauli', 'State Name_Sirmaur', 'State Name_Sirohi', 'State Name_Sirsa', 'State Name_Sitamarhi', 'State Name_Sitapur', 'State Name_Siwan', 'State Name_Solan', 'State Name_Solapur', 'State Name_Sonbhadra', 'State Name_Sonipat', 'State Name_Sontipur', 'State Name_South 24 Paraganas', 'State Name_South Goa', 'State Name_Srikakulam', 'State Name_Srinagar', 'State Name_Subarnapur', 'State Name_Sultanpur', 'State Name_Sundargarh', 'State Name_Supaul', 'State Name_Surat', 'State Name_Surendranagar', 'State Name_Tapi', 'State Name_Thane', 'State Name_Thanjavur', 'State Name_Theni', 'State Name_Thiruvallur', 'State Name_Thiruvananthapuram', 'State Name_Thiruvarur', 'State Name_Thoothukkudi', 'State Name_Thrissur District', 'State Name_Tiruchchirappalli', 'State Name_Tirunelveli Kattabo', 'State Name_Tiruppur', 'State Name_Tiruvannamalai', 'State Name_Tonk', 'State Name_Tumkur', 'State Name_Udaipur', 'State Name_Udham Singh Nagar', 'State Name_Udupi', 'State Name_Ujjain', 'State Name_Una', 'State Name_Unnao', 'State Name_Uttar Dinajpur', 'State Name_Uttar Kannada', 'State Name_Uttarkashi', 'State Name_Vadodara', 'State Name_Vaishali', 'State Name_Valsad', 'State Name_Varanasi', 'State Name_Vellore', 'State Name_Vidisha', 'State Name_Villupuram', 'State Name_Virudhunagar', 'State Name_Vishakhapatnam', 'State Name_Vizianagaram District', 'State Name_Warangal', 'State Name_Wardha', 'State Name_Wayanad', 'State Name_West Delhi', 'State Name_West Godavari', 'State Name_West Siang', 'State Name_West Tripura', 'State Name_Yamunanagar', 'State Name_Yavatmal']\n"
          ],
          "name": "stdout"
        }
      ]
    },
    {
      "cell_type": "markdown",
      "metadata": {
        "id": "Ekm4rAfPw-vN",
        "colab_type": "text"
      },
      "source": [
        "split the data set into  training and testing set.  distribution ration is 80:20"
      ]
    },
    {
      "cell_type": "code",
      "metadata": {
        "id": "ZtGQZ6ahi41r",
        "colab_type": "code",
        "outputId": "f7e16f8f-d403-4f87-b346-bccd67ceff6a",
        "colab": {
          "base_uri": "https://localhost:8080/",
          "height": 51
        }
      },
      "source": [
        "# Import train_test_split\n",
        "from sklearn.model_selection import train_test_split\n",
        "\n",
        "# Split the 'features' and 'income' data into training and testing sets\n",
        "X_train, X_test, y_train, y_test = train_test_split(final_data, \n",
        "                                                    voice_quality, \n",
        "                                                    test_size = 0.2, \n",
        "                                                    random_state = 0)\n",
        "\n",
        "# Show the results of the split\n",
        "print(\"Training set has {} samples.\".format(X_train.shape[0]))\n",
        "print(\"Testing set has {} samples.\".format(X_test.shape[0]))"
      ],
      "execution_count": 13,
      "outputs": [
        {
          "output_type": "stream",
          "text": [
            "Training set has 76253 samples.\n",
            "Testing set has 19064 samples.\n"
          ],
          "name": "stdout"
        }
      ]
    },
    {
      "cell_type": "markdown",
      "metadata": {
        "id": "sf4hEykAxVR2",
        "colab_type": "text"
      },
      "source": [
        "define the method for trainign and predicting the target class based on sample size , algorithm provided and training and testing data provided"
      ]
    },
    {
      "cell_type": "code",
      "metadata": {
        "id": "O2gKZ4bpwKHY",
        "colab_type": "code",
        "colab": {}
      },
      "source": [
        "\n",
        "\n",
        "def train_predict(learner, sample_size, X_train, y_train, X_test, y_test): \n",
        "       \n",
        "    results = {}\n",
        "    \n",
        "    # Fit the learner to the training data using slicing with 'sample_size' using .fit(training_features[:], training_labels[:])\n",
        "    start = time() # Get start time\n",
        "    learner = learner.fit(X_train[:sample_size], y_train[:sample_size])\n",
        "    end = time() # Get end time\n",
        "    \n",
        "    # Calculate the training time\n",
        "    results['train_time'] = end- start\n",
        "        \n",
        "    # Get the predictions on the test set(X_test),\n",
        "    #       then get predictions on the training samples(X_train) using .predict()\n",
        "    start = time() # Get start time\n",
        "    predictions_test = learner.predict(X_test)\n",
        "    predictions_train = learner.predict(X_train)\n",
        "    end = time() # Get end time\n",
        "    \n",
        "    # Calculate the total prediction time\n",
        "    results['pred_time'] = end- start\n",
        "            \n",
        "    # Compute accuracy on the first training samples which is y_train]\n",
        "    results['acc_train'] = accuracy_score(y_train, predictions_train)\n",
        "        \n",
        "    # Compute accuracy on test set using accuracy_score()\n",
        "    results['acc_test'] = accuracy_score(y_test, predictions_test)\n",
        "    \n",
        "    #  Compute F-score on the the training samples using fbeta_score()\n",
        "    results['f_train'] = fbeta_score(y_train ,predictions_train , 0.5 )\n",
        "        \n",
        "    # Compute F-score on the test set which is y_test\n",
        "    results['f_test'] =  fbeta_score(y_test, predictions_test,0.5)\n",
        "       \n",
        "    # Success\n",
        "    print(\"{} trained on {} samples.\".format(learner.__class__.__name__, sample_size))\n",
        "        \n",
        "    # Return the results\n",
        "    return results"
      ],
      "execution_count": 0,
      "outputs": []
    },
    {
      "cell_type": "markdown",
      "metadata": {
        "id": "Y1YLZEV6xm8m",
        "colab_type": "text"
      },
      "source": [
        "Build models  amd train train and prediction calculation with sample sizes 1% , 10%  and 100% "
      ]
    },
    {
      "cell_type": "code",
      "metadata": {
        "id": "QZKbp6PvxdVP",
        "colab_type": "code",
        "outputId": "98f15c12-e828-4fa9-a10f-d02ca8c08fa5",
        "colab": {
          "base_uri": "https://localhost:8080/",
          "height": 377
        }
      },
      "source": [
        "from sklearn.tree import DecisionTreeClassifier\n",
        "from sklearn.ensemble import RandomForestClassifier\n",
        "from xgboost import XGBClassifier\n",
        "\n",
        "# Initialize the three models\n",
        "clf_A = DecisionTreeClassifier(random_state=42)\n",
        "clf_B =  RandomForestClassifier( random_state=42)\n",
        "clf_C = XGBClassifier()\n",
        "\n",
        "# Calculate the number of samples for 1%, 10%, and 100% of the training data\n",
        "\n",
        "samples_100 = len(X_train)\n",
        "samples_10 = int(len(X_train)/10)\n",
        "samples_1 = int(len(X_train)/100)\n",
        "\n",
        "# Collect results on the learners\n",
        "results = {}\n",
        "for clf in [clf_A, clf_B, clf_C]:\n",
        "    clf_name = clf.__class__.__name__\n",
        "    results[clf_name] = {}\n",
        "    for i, samples in enumerate([samples_1, samples_10, samples_100]):\n",
        "        results[clf_name][i] = train_predict(clf, samples, X_train, y_train, X_test, y_test)\n",
        "        print(results[clf_name][i])\n",
        "\n"
      ],
      "execution_count": 15,
      "outputs": [
        {
          "output_type": "stream",
          "text": [
            "DecisionTreeClassifier trained on 762 samples.\n",
            "{'train_time': 0.02425408363342285, 'pred_time': 0.19604039192199707, 'acc_train': 0.7079983738344721, 'acc_test': 0.7103441040704994, 'f_train': 0.7871348400332311, 'f_test': 0.7881303146834209}\n",
            "DecisionTreeClassifier trained on 7625 samples.\n",
            "{'train_time': 0.297313928604126, 'pred_time': 0.13411951065063477, 'acc_train': 0.7668944172688288, 'acc_test': 0.7654217373059169, 'f_train': 0.817220509381196, 'f_test': 0.8156410789460008}\n",
            "DecisionTreeClassifier trained on 76253 samples.\n",
            "{'train_time': 9.252082824707031, 'pred_time': 0.14814472198486328, 'acc_train': 0.8001258966860321, 'acc_test': 0.7869806966009232, 'f_train': 0.8334422675317636, 'f_test': 0.824786216023618}\n"
          ],
          "name": "stdout"
        },
        {
          "output_type": "stream",
          "text": [
            "/usr/local/lib/python3.6/dist-packages/sklearn/ensemble/forest.py:245: FutureWarning: The default value of n_estimators will change from 10 in version 0.20 to 100 in 0.22.\n",
            "  \"10 in version 0.20 to 100 in 0.22.\", FutureWarning)\n"
          ],
          "name": "stderr"
        },
        {
          "output_type": "stream",
          "text": [
            "RandomForestClassifier trained on 762 samples.\n",
            "{'train_time': 0.04154682159423828, 'pred_time': 0.4431014060974121, 'acc_train': 0.7188963057191192, 'acc_test': 0.7207826269408308, 'f_train': 0.7877448501949015, 'f_test': 0.7884655477952672}\n",
            "RandomForestClassifier trained on 7625 samples.\n",
            "{'train_time': 0.35094690322875977, 'pred_time': 0.6293113231658936, 'acc_train': 0.7673403013651922, 'acc_test': 0.7648971884179605, 'f_train': 0.811677343377545, 'f_test': 0.8098778209723835}\n",
            "RandomForestClassifier trained on 76253 samples.\n",
            "{'train_time': 6.338521718978882, 'pred_time': 0.7021021842956543, 'acc_train': 0.7994177278271019, 'acc_test': 0.7875052454888796, 'f_train': 0.8313434393591014, 'f_test': 0.8231476814516129}\n",
            "XGBClassifier trained on 762 samples.\n",
            "{'train_time': 1.047250747680664, 'pred_time': 1.4019627571105957, 'acc_train': 0.7293614677455313, 'acc_test': 0.7300146873688628, 'f_train': 0.7746346865384116, 'f_test': 0.7748315332779471}\n",
            "XGBClassifier trained on 7625 samples.\n",
            "{'train_time': 8.335842370986938, 'pred_time': 1.2483394145965576, 'acc_train': 0.7421740783969155, 'acc_test': 0.7417121275702896, 'f_train': 0.7790432930995863, 'f_test': 0.7786057801370175}\n",
            "XGBClassifier trained on 76253 samples.\n",
            "{'train_time': 81.34712839126587, 'pred_time': 1.2052404880523682, 'acc_train': 0.7482197421740784, 'acc_test': 0.7479542593369702, 'f_train': 0.7830873867738783, 'f_test': 0.7829043446513325}\n"
          ],
          "name": "stdout"
        }
      ]
    },
    {
      "cell_type": "markdown",
      "metadata": {
        "id": "0SQGjr3Rx_A2",
        "colab_type": "text"
      },
      "source": [
        "Define helper methods to draw the bar graphs based on the results obtained from model evaluation in previous step"
      ]
    },
    {
      "cell_type": "code",
      "metadata": {
        "id": "tKxeVnyWUB-X",
        "colab_type": "code",
        "outputId": "795f213b-80f7-4ef1-bc52-06f740778597",
        "colab": {
          "base_uri": "https://localhost:8080/",
          "height": 119
        }
      },
      "source": [
        "\n",
        "\n",
        "def getDataList(alorithm, value , results ):\n",
        "    list = []\n",
        "    for i in range(0, 3):   \n",
        "          list.append(results[alorithm][i][value])\n",
        "     \n",
        "    return list\n",
        "\n",
        "\n",
        "\n",
        "def barplot(xLabel, yLabel, title , decisionTreeData, randomForestData, xgbData, n_groups=3 ):\n",
        "  \n",
        "    # create plot\n",
        "    fig, ax = plt.subplots()\n",
        "    index = np.arange(n_groups)\n",
        "    bar_width = 0.25\n",
        "    opacity = 0.8\n",
        "    \n",
        "    rects1 = plt.bar(index, decisionTreeData, bar_width,\n",
        "    alpha=opacity,\n",
        "    color='b',\n",
        "    label= 'DecisionTreeClassifier')\n",
        "  \n",
        "    rects2 = plt.bar(index + bar_width, randomForestData, bar_width,\n",
        "    alpha=opacity,\n",
        "    color='g',\n",
        "    label= 'RandomForestClassifier')\n",
        "    \n",
        "    rects3 = plt.bar(index + (2*bar_width), xgbData, bar_width,\n",
        "    alpha=opacity,\n",
        "    color='R',\n",
        "    label= 'XGBClassifier')\n",
        "\n",
        "    plt.xlabel(xLabel)\n",
        "    plt.ylabel(yLabel)\n",
        "    plt.title(title)\n",
        "    plt.xticks(index + bar_width, ('1%', '10%', '100'))\n",
        "    plt.legend()\n",
        "  \n",
        "    plt.tight_layout()\n",
        "    plt.show()\n",
        "    \n",
        "results[clf_name][i]\n",
        "\n"
      ],
      "execution_count": 16,
      "outputs": [
        {
          "output_type": "execute_result",
          "data": {
            "text/plain": [
              "{'acc_test': 0.7479542593369702,\n",
              " 'acc_train': 0.7482197421740784,\n",
              " 'f_test': 0.7829043446513325,\n",
              " 'f_train': 0.7830873867738783,\n",
              " 'pred_time': 1.2052404880523682,\n",
              " 'train_time': 81.34712839126587}"
            ]
          },
          "metadata": {
            "tags": []
          },
          "execution_count": 16
        }
      ]
    },
    {
      "cell_type": "markdown",
      "metadata": {
        "id": "fgOlggA7yReh",
        "colab_type": "text"
      },
      "source": [
        "Draw the graph using prevoisly defined methods and models evaluation result"
      ]
    },
    {
      "cell_type": "code",
      "metadata": {
        "id": "0IDwrFlnt0Rk",
        "colab_type": "code",
        "outputId": "76ac0df4-e714-4259-bf8d-65672452560c",
        "colab": {
          "base_uri": "https://localhost:8080/",
          "height": 628
        }
      },
      "source": [
        "decisionTreeAccuTrainScores = getDataList('DecisionTreeClassifier' , 'acc_train', results)\n",
        "randomForestAccuTrainScores = getDataList('RandomForestClassifier' , 'acc_train', results)\n",
        "xgbAccuTrainScores = getDataList('XGBClassifier' , 'acc_train', results)\n",
        "\n",
        "\n",
        "\n",
        "decisionTreeAccuTestScores = getDataList('DecisionTreeClassifier' , 'acc_test', results)\n",
        "randomForestAccuTestScores = getDataList('RandomForestClassifier' , 'acc_test', results)\n",
        "xgbAccuTestScores = getDataList('XGBClassifier' , 'acc_test', results)\n",
        "\n",
        "print(decisionTreeAccuTrainScores)\n",
        "print(randomForestAccuTrainScores)\n",
        "print(xgbAccuTrainScores)\n",
        "\n",
        "barplot('trainting set size' , 'Acuricy score', 'Accuracy score vs Training subset' , decisionTreeAccuTrainScores ,randomForestAccuTrainScores ,xgbAccuTrainScores )\n",
        "barplot('testing set size' , 'Acuricy score', 'Accuracy score vs testing set' , decisionTreeAccuTestScores ,randomForestAccuTestScores , xgbAccuTestScores )"
      ],
      "execution_count": 17,
      "outputs": [
        {
          "output_type": "stream",
          "text": [
            "[0.7079983738344721, 0.7668944172688288, 0.8001258966860321]\n",
            "[0.7188963057191192, 0.7673403013651922, 0.7994177278271019]\n",
            "[0.7293614677455313, 0.7421740783969155, 0.7482197421740784]\n"
          ],
          "name": "stdout"
        },
        {
          "output_type": "display_data",
          "data": {
            "image/png": "[encoded data removed]",
            "text/plain": [
              "<Figure size 432x288 with 1 Axes>"
            ]
          },
          "metadata": {
            "tags": []
          }
        },
        {
          "output_type": "display_data",
          "data": {
            "image/png": "[encoded data removed]",
            "text/plain": [
              "<Figure size 432x288 with 1 Axes>"
            ]
          },
          "metadata": {
            "tags": []
          }
        }
      ]
    },
    {
      "cell_type": "code",
      "metadata": {
        "id": "d6WzC6-A1_46",
        "colab_type": "code",
        "outputId": "0e04ce53-05fe-42a6-9f52-077014fcb4ce",
        "colab": {
          "base_uri": "https://localhost:8080/",
          "height": 628
        }
      },
      "source": [
        "decisionTreeTrainFScores = getDataList('DecisionTreeClassifier' , 'f_train', results)\n",
        "randomForestTrainFScores = getDataList('RandomForestClassifier' , 'f_train', results)\n",
        "xgbTrainFScores = getDataList('XGBClassifier' , 'f_train', results)\n",
        "\n",
        "decisionTreeTestFScores = getDataList('DecisionTreeClassifier' , 'f_test', results)\n",
        "randomForestTestFScores = getDataList('RandomForestClassifier' , 'f_test', results)\n",
        "xgbTestFScores = getDataList('XGBClassifier' , 'f_test', results)\n",
        "\n",
        "print(decisionTreeTrainFScores)\n",
        "print(randomForestTrainFScores)\n",
        "print(randomForestTrainFScores)\n",
        "\n",
        "barplot('trainting set size' , 'F score', 'F score vs Training subset' , decisionTreeTrainFScores ,randomForestTrainFScores, xgbTrainFScores )\n",
        "barplot('testing set size' , 'F score', 'F score vs testing set' , decisionTreeTestFScores ,randomForestTestFScores, xgbTestFScores )\n"
      ],
      "execution_count": 18,
      "outputs": [
        {
          "output_type": "stream",
          "text": [
            "[0.7871348400332311, 0.817220509381196, 0.8334422675317636]\n",
            "[0.7877448501949015, 0.811677343377545, 0.8313434393591014]\n",
            "[0.7877448501949015, 0.811677343377545, 0.8313434393591014]\n"
          ],
          "name": "stdout"
        },
        {
          "output_type": "display_data",
          "data": {
            "image/png": "[encoded data removed]",
            "text/plain": [
              "<Figure size 432x288 with 1 Axes>"
            ]
          },
          "metadata": {
            "tags": []
          }
        },
        {
          "output_type": "display_data",
          "data": {
            "image/png": "[encoded data removed]",
            "text/plain": [
              "<Figure size 432x288 with 1 Axes>"
            ]
          },
          "metadata": {
            "tags": []
          }
        }
      ]
    },
    {
      "cell_type": "markdown",
      "metadata": {
        "id": "so_k4alPycSu",
        "colab_type": "text"
      },
      "source": [
        "Model optimization for the selected model using different hyper parameters"
      ]
    },
    {
      "cell_type": "code",
      "metadata": {
        "id": "X2-DzeDACnqo",
        "colab_type": "code",
        "outputId": "ad7cb190-dd57-4455-cd74-54494df1c31c",
        "colab": {
          "base_uri": "https://localhost:8080/",
          "height": 377
        }
      },
      "source": [
        "# finding the optimized model based on parameter tuning\n",
        "\n",
        "from sklearn.model_selection import GridSearchCV\n",
        "from sklearn.metrics import make_scorer\n",
        "\n",
        "# Initialize the classifier\n",
        "clf = RandomForestClassifier( random_state=42)\n",
        "\n",
        "#  Create the parameters list you wish to tune, using a dictionary if needed.\n",
        "parameters = {'max_depth': [100 , 150, 180], 'n_estimators': [10, 20, 30], 'min_samples_split': [2, 4,6]} \n",
        "\n",
        "# Make an fbeta_score scoring object using make_scorer()\n",
        "scorer = make_scorer(fbeta_score, beta=.5)\n",
        "\n",
        "# Perform grid search on the classifier using 'scorer' as the scoring method using GridSearchCV()\n",
        "grid_obj = GridSearchCV(clf, parameters, scoring=scorer)\n",
        "\n",
        "# Fit the grid search object to the training data and find the optimal parameters using fit()\n",
        "grid_fit = grid_obj.fit(X_train, y_train)\n",
        "\n",
        "# Get the estimator\n",
        "best_clf = grid_fit.best_estimator_\n",
        "\n",
        "print(best_clf)\n",
        "\n",
        "# Make predictions using the unoptimized and model\n",
        "predictions = (clf.fit(X_train, y_train)).predict(X_test)\n",
        "best_predictions = best_clf.predict(X_test)\n",
        "\n",
        "# Report the before-and-afterscores\n",
        "print(\"Unoptimized model\\n------\")\n",
        "print(\"Accuracy score on testing data: {:.4f}\".format(accuracy_score(y_test, predictions)))\n",
        "print(\"F-score on testing data: {:.4f}\".format(fbeta_score(y_test, predictions, beta = 0.5)))\n",
        "print(\"\\nOptimized Model\\n------\")\n",
        "print(\"Final accuracy score on the testing data: {:.4f}\".format(accuracy_score(y_test, best_predictions)))\n",
        "print(\"Final F-score on the testing data: {:.4f}\".format(fbeta_score(y_test, best_predictions, beta = 0.5)))"
      ],
      "execution_count": 19,
      "outputs": [
        {
          "output_type": "stream",
          "text": [
            "/usr/local/lib/python3.6/dist-packages/sklearn/model_selection/_split.py:1978: FutureWarning: The default value of cv will change from 3 to 5 in version 0.22. Specify it explicitly to silence this warning.\n",
            "  warnings.warn(CV_WARNING, FutureWarning)\n"
          ],
          "name": "stderr"
        },
        {
          "output_type": "stream",
          "text": [
            "RandomForestClassifier(bootstrap=True, class_weight=None, criterion='gini',\n",
            "                       max_depth=180, max_features='auto', max_leaf_nodes=None,\n",
            "                       min_impurity_decrease=0.0, min_impurity_split=None,\n",
            "                       min_samples_leaf=1, min_samples_split=2,\n",
            "                       min_weight_fraction_leaf=0.0, n_estimators=30,\n",
            "                       n_jobs=None, oob_score=False, random_state=42, verbose=0,\n",
            "                       warm_start=False)\n"
          ],
          "name": "stdout"
        },
        {
          "output_type": "stream",
          "text": [
            "/usr/local/lib/python3.6/dist-packages/sklearn/ensemble/forest.py:245: FutureWarning: The default value of n_estimators will change from 10 in version 0.20 to 100 in 0.22.\n",
            "  \"10 in version 0.20 to 100 in 0.22.\", FutureWarning)\n"
          ],
          "name": "stderr"
        },
        {
          "output_type": "stream",
          "text": [
            "Unoptimized model\n",
            "------\n",
            "Accuracy score on testing data: 0.7875\n",
            "F-score on testing data: 0.8231\n",
            "\n",
            "Optimized Model\n",
            "------\n",
            "Final accuracy score on the testing data: 0.7882\n",
            "Final F-score on the testing data: 0.8241\n"
          ],
          "name": "stdout"
        }
      ]
    },
    {
      "cell_type": "markdown",
      "metadata": {
        "id": "zkNirpE-ypxD",
        "colab_type": "text"
      },
      "source": [
        "printing important features of the model "
      ]
    },
    {
      "cell_type": "code",
      "metadata": {
        "id": "-AJjDz-jPug6",
        "colab_type": "code",
        "outputId": "a61fa5d1-2a62-4f07-b51e-d2cbdc190e34",
        "colab": {
          "base_uri": "https://localhost:8080/",
          "height": 449
        }
      },
      "source": [
        "importances = best_clf.feature_importances_\n",
        "\n",
        "# Sort feature importances in descending order\n",
        "indices = np.argsort(importances)[::-1]\n",
        "\n",
        "# Rearrange feature names so they match the sorted feature importances\n",
        "names = [X_train.columns.values[i] for i in indices[:5]]\n",
        "\n",
        "# Create plot\n",
        "plt.figure()\n",
        "\n",
        "# Create plot title\n",
        "plt.title(\"Feature Importance\")\n",
        "\n",
        "# Add bars\n",
        "plt.bar(np.arange(5), importances[indices][:5])\n",
        "\n",
        "# Add feature names as x-axis labels\n",
        "plt.xticks(np.arange(5), names, rotation=90)\n",
        "\n",
        "# Show plot\n",
        "plt.show()\n"
      ],
      "execution_count": 20,
      "outputs": [
        {
          "output_type": "display_data",
          "data": {
            "image/png": "[encoded data removed]",
            "text/plain": [
              "<Figure size 432x288 with 1 Axes>"
            ]
          },
          "metadata": {
            "tags": []
          }
        }
      ]
    },
    {
      "cell_type": "markdown",
      "metadata": {
        "id": "Ev-CZqiuyzTU",
        "colab_type": "text"
      },
      "source": [
        "Completed "
      ]
    }
  ]
}